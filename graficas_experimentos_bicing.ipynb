{
 "cells": [
  {
   "cell_type": "markdown",
   "metadata": {},
   "source": [
    "##### Gráficas usadas en la práctica\n",
    "Este fichero contiene los códigos de creación de los distintos gráficos que aparecen en el informe de la práctica."
   ]
  },
  {
   "cell_type": "markdown",
   "metadata": {},
   "source": [
    "#### Importar paquetes"
   ]
  },
  {
   "cell_type": "code",
   "execution_count": null,
   "metadata": {},
   "outputs": [],
   "source": [
    "%pip install matplotlib\n",
    "import ipykernel\n",
    "import matplotlib.pyplot as plt\n",
    "from main import dibujar_ciudad"
   ]
  },
  {
   "cell_type": "markdown",
   "metadata": {},
   "source": [
    "#### Visualización del escenario del problema con semilla 42"
   ]
  },
  {
   "cell_type": "markdown",
   "metadata": {},
   "source": [
    "Figura 1: Visualización del escenario inicial del problema"
   ]
  },
  {
   "cell_type": "code",
   "execution_count": null,
   "metadata": {},
   "outputs": [],
   "source": [
    "dibujar_estado_actual()"
   ]
  },
  {
   "cell_type": "markdown",
   "metadata": {},
   "source": [
    "Figura 2: Visualización del estado final con Hill Climbing y heurístico 2\n"
   ]
  },
  {
   "cell_type": "code",
   "execution_count": null,
   "metadata": {},
   "outputs": [],
   "source": [
    "dibujar_ciudad()"
   ]
  },
  {
   "cell_type": "markdown",
   "metadata": {},
   "source": [
    "#### Experimento 1"
   ]
  },
  {
   "cell_type": "markdown",
   "metadata": {},
   "source": [
    "Figura 3: Gráfico de las ganancias de los 6 operadores en 10 experimentos"
   ]
  },
  {
   "cell_type": "code",
   "execution_count": null,
   "metadata": {},
   "outputs": [],
   "source": [
    "# Datos\n",
    "experimentos = list(range(1, 11))\n",
    "ganancias1 = [27,20,35,62,50,14,27,21,20,28]\n",
    "ganancias2 = [42,58,36,64,55,58,27,41,36,29]\n",
    "ganancias3 = [8,10,27,32,22,3,15,9,7,20]\n",
    "ganancias4 = [14,16,27,32,22,3,15,9,16,20]\n",
    "ganancias5 = [32,19,34,62,53,55,26,13,11,20]\n",
    "\n",
    "# Crear el gráfico\n",
    "plt.figure(figsize=(10, 6))\n",
    "plt.plot(experimentos, ganancias1, marker='s', linestyle='-', color='r', label='Operador 1')\n",
    "plt.plot(experimentos, ganancias2, marker='^', linestyle='-', color='g', label='Operador 2')\n",
    "plt.plot(experimentos, ganancias3, marker='d', linestyle='-', color='c', label='Operador 3 / Operador 4')\n",
    "plt.plot(experimentos, ganancias4, marker='v', linestyle='-', color='m', label='Operador 5')\n",
    "plt.plot(experimentos, ganancias5, marker='o', linestyle='-', color='b', label='Operador 6')\n",
    "plt.title(\"Comparación de Ganancias en 10 Experimentos\")\n",
    "plt.xlabel(\"Número de experimento\")\n",
    "plt.ylabel(\"Ganancias\")\n",
    "plt.xticks(experimentos)\n",
    "plt.grid(True, which='both', linestyle='--', linewidth=0.5)\n",
    "plt.legend()  # Agregar leyenda\n",
    "plt.tight_layout()\n",
    "\n",
    "# Mostrar el gráfico\n",
    "plt.show()"
   ]
  },
  {
   "cell_type": "markdown",
   "metadata": {},
   "source": [
    "#### Experimento 3"
   ]
  },
  {
   "cell_type": "markdown",
   "metadata": {},
   "source": [
    "Figura 8: Gráfico de las ganancias medias para diferentes valores de lambda y k, con 10000 iteraciones"
   ]
  },
  {
   "cell_type": "code",
   "execution_count": null,
   "metadata": {},
   "outputs": [],
   "source": [
    "import numpy as np\n",
    "matplotlib.use('agg')\n",
    "resultados_SA = [[94.5, 5, 0.99],[94.3,50,0.99],[92.2,100,0.99],[94.8,125,0.99],[95, 5, 0.1],[95, 50, 0.1], [95, 100, 0.1], [95, 125, 0.1], [95,5,0.01],[95,50,0.01],[94.6,100,0.01],[92.6,125,0.01], [95,5,0.001],[92,50,0.001],[85.4,100,0.001], [86.3,125,0.001]]\n",
    "\n",
    "# Valores únicos de k y lambda\n",
    "k_values = sorted(set(k for _, k, _ in resultados_SA))\n",
    "lam_values = sorted(set(lam for _, _, lam in resultados_SA))\n",
    "\n",
    "# Inicializar matriz de ceros\n",
    "matrix = np.zeros((len(k_values), len(lam_values)))\n",
    "\n",
    "# Poblar la matriz con los datos\n",
    "for beneficio, k, lam in resultados_SA:\n",
    "    i = k_values.index(k)\n",
    "    j = lam_values.index(lam)\n",
    "    matrix[i, j] = beneficio\n",
    "\n",
    "# Verificar la matriz\n",
    "for i, k in enumerate(k_values):\n",
    "    for j, lam in enumerate(lam_values):\n",
    "        print(f\"k={k}, λ={lam} --> Beneficio: {matrix[i, j]}\")\n",
    "\n",
    "# Crear la figura y los ejes\n",
    "fig = plt.figure()\n",
    "ax = fig.add_subplot(111, projection='3d')\n",
    "\n",
    "# Generar coordenadas para cada barra\n",
    "_x = np.arange(len(k_values))\n",
    "_y = np.arange(len(lam_values))\n",
    "_xx, _yy = np.meshgrid(_x, _y)\n",
    "x, y = _xx.ravel(), _yy.ravel()\n",
    "\n",
    "# Valores de z (beneficio)\n",
    "z = matrix.T.ravel()\n",
    "\n",
    "# Definir el ancho, la profundidad y la altura de cada barra\n",
    "dx = dy = 0.45\n",
    "\n",
    "# Mapa de colores\n",
    "colors = ['lightgreen', 'lightblue', 'yellow', 'pink', 'orange', 'purple']\n",
    "num_lam_values = len(lam_values)\n",
    "colors = colors * (num_lam_values // len(colors) + 1)\n",
    "\n",
    "# Obtener los índices en orden descendente basado en z\n",
    "sorted_indices = np.argsort(z)[::-1]\n",
    "\n",
    "# Crear el gráfico de barras con colores distintos para cada fila de lambda usando los índices ordenados\n",
    "for idx in sorted_indices:\n",
    "    color_idx = int(_yy.ravel()[idx])\n",
    "    ax.bar3d(x[idx], y[idx], 0, dx, dy, z[idx], shade=True, color=colors[color_idx] if z[idx] != 95.0 else 'red')\n",
    "\n",
    "# Etiquetas para los ejes\n",
    "ax.set_xticks(_x + dx/2)\n",
    "ax.set_yticks(_y + dy/2)\n",
    "ax.set_xticklabels(k_values)\n",
    "ax.set_yticklabels(lam_values)\n",
    "ax.set_xlabel('K')\n",
    "ax.set_ylabel('λ')\n",
    "ax.set_zlabel('Beneficio (€)')\n",
    "\n",
    "plt.savefig('parametros_SA.png')\n",
    "plt.close()"
   ]
  },
  {
   "cell_type": "markdown",
   "metadata": {},
   "source": [
    "#### Experimento 4"
   ]
  },
  {
   "cell_type": "markdown",
   "metadata": {},
   "source": [
    "Figura 10: Gráfico de los tiempos de ejecución por cada cantidad de estaciones"
   ]
  },
  {
   "cell_type": "code",
   "execution_count": null,
   "metadata": {},
   "outputs": [],
   "source": [
    "# Datos\n",
    "replicas_25 = list(range(1, 11))\n",
    "tiempos_25 = [0.483, 0.668, 0.527, 0.489, 0.496, 0.642, 0.513, 0.505, 0.485, 0.640]\n",
    "replicas_50 = list(range(1, 11))\n",
    "tiempos_50 = [6.472, 5.400, 5.199, 6.403, 5.477, 5.295, 6.730, 5.342, 6.530, 6.619]\n",
    "replicas_75 = list(range(1, 11))\n",
    "tiempos_75 = [34.369, 34.907, 34.897, 35.443, 41.350, 37.579, 38.407, 42.732, 38.136, 46.348]\n",
    "replicas_100 = list(range(1, 11))\n",
    "tiempos_100 = [115.923, 152.235, 128.944, 119.915, 124.164, 113.173, 136.706, 154.856, 121.630, 123.566]\n",
    "replicas_125 = list(range(1, 11))\n",
    "tiempos_125 = [238.125, 260.119, 251.560, 305.978, 326.227, 301.510, 284.716, 360.928, 299.537, 269.823]\n",
    "replicas_150 = list(range(1, 11))\n",
    "tiempos_150 = [1019.406, 701.156, 694.093, 784.735, 682.183, 738.141, 702.533, 1084.911, 967.865, 963.614]\n",
    "\n",
    "# Crear la figura y el eje\n",
    "plt.figure(figsize=(12, 8))\n",
    "\n",
    "# Añadir línea con puntos para cada cantidad de estaciones\n",
    "plt.plot(replicas_25, tiempos_25, label='25 Estaciones', marker='o', linestyle='-', color='skyblue')\n",
    "plt.plot(replicas_50, tiempos_50, label='50 Estaciones', marker='o', linestyle='-', color='lightgreen')\n",
    "plt.plot(replicas_75, tiempos_75, label='75 Estaciones', marker='o', linestyle='-', color='lightcoral')\n",
    "plt.plot(replicas_100, tiempos_100, label='100 Estaciones', marker='o', linestyle='-', color='yellow')\n",
    "plt.plot(replicas_125, tiempos_125, label='125 Estaciones', marker='o', linestyle='-', color='lightblue')\n",
    "plt.plot(replicas_150, tiempos_150, label='150 Estaciones', marker='o', linestyle='-', color='lightpink')\n",
    "\n",
    "# Etiquetas, título y leyenda\n",
    "plt.xlabel('Repetición')\n",
    "plt.ylabel('Tiempo (s)')\n",
    "plt.title('Tiempo de Ejecución por Número de Estaciones y Repetición')\n",
    "plt.legend()\n",
    "plt.grid(axis='y', linestyle='--', alpha=0.7)\n",
    "\n",
    "# Mostrar la gráfica\n",
    "plt.show()"
   ]
  },
  {
   "cell_type": "markdown",
   "metadata": {},
   "source": [
    "Figura 11: Gráfico del tiempo medio de ejecución por cada cantidad de estaciones"
   ]
  },
  {
   "cell_type": "code",
   "execution_count": null,
   "metadata": {},
   "outputs": [],
   "source": [
    "# Datos\n",
    "estaciones = [25, 50, 75, 100, 125, 150]\n",
    "tiempos_medios = [0.545, 5.946, 38.417, 129.111, 289.852, 833.863]\n",
    "\n",
    "# Crear el gráfico\n",
    "plt.plot(estaciones, tiempos_medios, marker='o', linestyle='-', color='skyblue', label='Tiempo Medio')\n",
    "plt.xlabel('Número de Estaciones')\n",
    "plt.ylabel('Tiempo Medio (s)')\n",
    "plt.title('Tiempo Medio de Ejecución por Número de Estaciones')\n",
    "plt.legend()\n",
    "\n",
    "# Mostrar el gráfico\n",
    "plt.grid(True)\n",
    "plt.show()"
   ]
  },
  {
   "cell_type": "markdown",
   "metadata": {},
   "source": [
    "#### Experimento 5"
   ]
  },
  {
   "cell_type": "markdown",
   "metadata": {},
   "source": [
    "Figura 12: Gráfico de las ganancias medias de los dos algoritmos con el heurístico 1"
   ]
  },
  {
   "cell_type": "code",
   "execution_count": null,
   "metadata": {},
   "outputs": [],
   "source": [
    "ganancias_hill1=[95,77,87,79,94,90,91,86,80,59]\n",
    "ganancias_sim1 =[95,77,87,78,93,88,92,86,81,59]\n",
    "\n",
    "# Lista de repeticiones\n",
    "repeticiones = list(range(1, len(tiempos_hill1) + 1))\n",
    "\n",
    "# Crear el gráfico\n",
    "plt.figure(figsize=(10, 6))\n",
    "plt.plot(repeticiones, km_hill2, label='Hill Climbing', marker='o')\n",
    "plt.plot(repeticiones, km_sim2, label='Simulated Annealing', marker='s')\n",
    "\n",
    "# Configurar el título y etiquetas de los ejes\n",
    "plt.title('Ganancias medias con heurístico 1')\n",
    "plt.xlabel('Número de Semilla')\n",
    "plt.ylabel('Ganancias medias (€)')\n",
    "\n",
    "# Mostrar la leyenda\n",
    "plt.legend()\n",
    "\n",
    "# Mostrar el gráfico\n",
    "plt.grid(True)\n",
    "plt.show()"
   ]
  },
  {
   "cell_type": "markdown",
   "metadata": {},
   "source": [
    "Figura 13: Gráfico de los tiempos medios de los dos algoritmos con el heurístico 1"
   ]
  },
  {
   "cell_type": "code",
   "execution_count": null,
   "metadata": {},
   "outputs": [],
   "source": [
    "tiempos_hill1 = [640.4,389.8,487.4,472.4 ,621.4,615.2 ,497.2,486.6,473.0, 304.0]\n",
    "tiempos_sim1 = [4032.8,3601.2,3795.2,3469.8 ,3854.4,3552.2 ,3959.8,4170.2 , 3461.4 ,3475.8 ]\n",
    "\n",
    "# Lista de repeticiones\n",
    "repeticiones = list(range(1, len(tiempos_hill1) + 1))\n",
    "\n",
    "# Crear el gráfico\n",
    "plt.figure(figsize=(10, 6))\n",
    "plt.plot(repeticiones, km_hill2, label='Hill Climbing', marker='o')\n",
    "plt.plot(repeticiones, km_sim2, label='Simulated Annealing', marker='s')\n",
    "\n",
    "# Configurar el título y etiquetas de los ejes\n",
    "plt.title('Tiempos medios con heurístico 1')\n",
    "plt.xlabel('Número de Semilla')\n",
    "plt.ylabel('Tiempos medios (ms)')\n",
    "\n",
    "# Mostrar la leyenda\n",
    "plt.legend()\n",
    "\n",
    "# Mostrar el gráfico\n",
    "plt.grid(True)\n",
    "plt.show()"
   ]
  },
  {
   "cell_type": "markdown",
   "metadata": {},
   "source": [
    "Figura 14: Gráfico de la distancia recorrida de los dos algoritmos con el heurístico 1"
   ]
  },
  {
   "cell_type": "code",
   "execution_count": null,
   "metadata": {},
   "outputs": [],
   "source": [
    "km_hill1 = [58225, 47650, 34475, 67625, 43000, 38150, 37550, 43050, 31750, 27300]\n",
    "km_sim1 = [33020, 27540,24040,30040,16860,20780,25980,19080,22620,23080]\n",
    "\n",
    "# Lista de repeticiones\n",
    "repeticiones = list(range(1, len(tiempos_hill1) + 1))\n",
    "\n",
    "# Crear el gráfico\n",
    "plt.figure(figsize=(10, 6))\n",
    "plt.plot(repeticiones, km_hill2, label='Hill Climbing', marker='o')\n",
    "plt.plot(repeticiones, km_sim2, label='Simulated Annealing', marker='s')\n",
    "\n",
    "# Configurar el título y etiquetas de los ejes\n",
    "plt.title('Distancia recorrida con heurístico 1')\n",
    "plt.xlabel('Número de Semilla')\n",
    "plt.ylabel('Distancia recorrida (m)')\n",
    "\n",
    "# Mostrar la leyenda\n",
    "plt.legend()\n",
    "\n",
    "# Mostrar el gráfico\n",
    "plt.grid(True)\n",
    "plt.show()"
   ]
  },
  {
   "cell_type": "markdown",
   "metadata": {},
   "source": [
    "Figura 15: Gráfico de las ganancias medias de los dos algoritmos con el heurístico 2"
   ]
  },
  {
   "cell_type": "code",
   "execution_count": null,
   "metadata": {},
   "outputs": [],
   "source": [
    "ganancias_hill2 =[64.8, 43.6,70.5,45.1,71.8,55,47.1,62.3,54.7,42.4]\n",
    "ganancias_sim2 = [58.0,44.4,69.8,44,65.1,51.7,46.4,62.3,52.2,42.4]\n",
    "\n",
    "tiempos_hill1 = [640.4,389.8,487.4,472.4 ,621.4,615.2 ,497.2,486.6,473.0, 304.0]\n",
    "tiempos_sim1 = [4032.8,3601.2,3795.2,3469.8 ,3854.4,3552.2 ,3959.8,4170.2 , 3461.4 ,3475.8 ]\n",
    "\n",
    "# Lista de repeticiones\n",
    "repeticiones = list(range(1, len(tiempos_hill1) + 1))\n",
    "\n",
    "# Crear el gráfico\n",
    "plt.figure(figsize=(10, 6))\n",
    "plt.plot(repeticiones, km_hill2, label='Hill Climbing', marker='o')\n",
    "plt.plot(repeticiones, km_sim2, label='Simulated Annealing', marker='s')\n",
    "\n",
    "# Configurar el título y etiquetas de los ejes\n",
    "plt.title('Ganancias medias con heurístico 2')\n",
    "plt.xlabel('Número de Semilla')\n",
    "plt.ylabel('Ganancias medias (€)')\n",
    "\n",
    "# Mostrar la leyenda\n",
    "plt.legend()\n",
    "\n",
    "# Mostrar el gráfico\n",
    "plt.grid(True)\n",
    "plt.show()"
   ]
  },
  {
   "cell_type": "markdown",
   "metadata": {},
   "source": [
    "Figura 16: Gráfico de los tiempos medios de los dos algoritmos con el heurístico 2"
   ]
  },
  {
   "cell_type": "code",
   "execution_count": null,
   "metadata": {},
   "outputs": [],
   "source": [
    "tiempos_hill2 = [2085.4,1061.8,1058.4,1007.0 ,1541.0 , 1335.2 ,1099.6 ,1125.8,1041.0,607.8]\n",
    "tiempos_sim2 = [3659.4,3310.4,3568.2,3407.6 ,4740.4,4181.4,3639.6,3546.4,3709.6,3342.2]\n",
    "\n",
    "# Lista de repeticiones\n",
    "repeticiones = list(range(1, len(tiempos_hill1) + 1))\n",
    "\n",
    "# Crear el gráfico\n",
    "plt.figure(figsize=(10, 6))\n",
    "plt.plot(repeticiones, km_hill2, label='Hill Climbing', marker='o')\n",
    "plt.plot(repeticiones, km_sim2, label='Simulated Annealing', marker='s')\n",
    "\n",
    "# Configurar el título y etiquetas de los ejes\n",
    "plt.title('Tiempos medios con heurístico 2')\n",
    "plt.xlabel('Número de Semilla')\n",
    "plt.ylabel('Tiempos medios (ms)')\n",
    "\n",
    "# Mostrar la leyenda\n",
    "plt.legend()\n",
    "\n",
    "# Mostrar el gráfico\n",
    "plt.grid(True)\n",
    "plt.show()"
   ]
  },
  {
   "cell_type": "markdown",
   "metadata": {},
   "source": [
    "Figura 17: Gráfico de la distancia recorrida de los dos algoritmos con el heurístico 2"
   ]
  },
  {
   "cell_type": "code",
   "execution_count": null,
   "metadata": {},
   "outputs": [],
   "source": [
    "km_hill2 = [15300,17400,9800,17400,10000,17300,18200,11100,16600,10100]\n",
    "km_sim2 = [10100,12800,8500,14500,10700, 17400, 17200,11100,16600,10100]\n",
    "\n",
    "# Lista de repeticiones\n",
    "repeticiones = list(range(1, len(tiempos_hill1) + 1))\n",
    "\n",
    "# Crear el gráfico\n",
    "plt.figure(figsize=(10, 6))\n",
    "plt.plot(repeticiones, km_hill2, label='Hill Climbing', marker='o')\n",
    "plt.plot(repeticiones, km_sim2, label='Simulated Annealing', marker='s')\n",
    "\n",
    "# Configurar el título y etiquetas de los ejes\n",
    "plt.title('Distancia recorrida con heurístico 2')\n",
    "plt.xlabel('Número de Semilla')\n",
    "plt.ylabel('Distancia recorrida (m)')\n",
    "\n",
    "# Mostrar la leyenda\n",
    "plt.legend()\n",
    "\n",
    "# Mostrar el gráfico\n",
    "plt.grid(True)\n",
    "plt.show()"
   ]
  },
  {
   "cell_type": "markdown",
   "metadata": {},
   "source": [
    "#### Experimento 6"
   ]
  },
  {
   "cell_type": "markdown",
   "metadata": {},
   "source": [
    "Figura 20: Gráfico de las ganancias medias para cada cantidad de furgonetas"
   ]
  },
  {
   "cell_type": "code",
   "execution_count": null,
   "metadata": {},
   "outputs": [],
   "source": [
    "# Datos\n",
    "n_furgos = [5, 10, 15, 20, 21, 22, 23, 24, 25, 30]\n",
    "ganancias = [84, 115.6, 125, 150.9, 159.3, 161.7, 168.3, 182.5, 189.6, 189.6]\n",
    "\n",
    "# Crear el gráfico\n",
    "plt.figure(figsize=(10, 6))\n",
    "plt.plot(n_furgos, ganancias, marker='o')\n",
    "plt.title('Ganancias medias augmentando la cantidad de furgonetas')\n",
    "plt.xlabel('Cantidad de furgonetas')\n",
    "plt.ylabel('Ganancias medias (€)')\n",
    "plt.grid(True)\n",
    "\n",
    "# Mostrar el gráfico\n",
    "plt.show()"
   ]
  },
  {
   "cell_type": "markdown",
   "metadata": {},
   "source": [
    "Figura 21: Gráfico del tiempo de ejecución medio para cada cantidad de furgonetas"
   ]
  },
  {
   "cell_type": "code",
   "execution_count": null,
   "metadata": {},
   "outputs": [],
   "source": [
    "# Datos\n",
    "n_furgos = [5, 10, 15, 20, 21, 22, 23, 24, 25, 30]\n",
    "tiempo = [438.4, 1152.7, 1457.9, 1463.0, 1276.8, 985.3, 750.4, 631.0, 594.2, 664.9]\n",
    "\n",
    "# Crear el gráfico\n",
    "plt.figure(figsize=(10, 6))\n",
    "plt.plot(n_furgos, tiempo, marker='o')\n",
    "plt.title('Tiempo de ejecución medio augmentando la cantidad de furgonetas')\n",
    "plt.xlabel('Cantidad de furgonetas')\n",
    "plt.ylabel('Tiempo de ejecución medio (ms)')\n",
    "plt.grid(True)\n",
    "\n",
    "# Mostrar el gráfico\n",
    "plt.show()"
   ]
  },
  {
   "cell_type": "markdown",
   "metadata": {},
   "source": [
    "#### Experimento Especial"
   ]
  },
  {
   "cell_type": "markdown",
   "metadata": {},
   "source": [
    "Figura 22: Gráfico de los tiempos de ejecución para 10 experimentos"
   ]
  },
  {
   "cell_type": "code",
   "execution_count": null,
   "metadata": {},
   "outputs": [],
   "source": [
    "# Datos\n",
    "experimentos = list(range(1, 11))\n",
    "tiempos = [463.017, 430.731, 476.577, 453.827, 448.968, 591.302, 530.215, 432.014, 412.152, 458.872]\n",
    "\n",
    "# Crear el gráfico\n",
    "plt.figure(figsize=(10, 6))\n",
    "plt.plot(experimentos, tiempos, marker='o', linestyle='-', color='b')\n",
    "plt.title(\"Tiempo de ejecución en 10 experimentos\")\n",
    "plt.xlabel(\"Número de experimento\")\n",
    "plt.ylabel(\"Tiempo de ejecución (ms)\")\n",
    "plt.xticks(experimentos)\n",
    "plt.ylim(0, 800)  # Establecer límites para el eje y\n",
    "plt.grid(True, which='both', linestyle='--', linewidth=0.5)\n",
    "plt.tight_layout()\n",
    "\n",
    "# Mostrar el gráfico\n",
    "plt.show()"
   ]
  }
 ],
 "metadata": {
  "kernelspec": {
   "display_name": "Python 3",
   "language": "python",
   "name": "python3"
  },
  "language_info": {
   "codemirror_mode": {
    "name": "ipython",
    "version": 3
   },
   "file_extension": ".py",
   "mimetype": "text/x-python",
   "name": "python",
   "nbconvert_exporter": "python",
   "pygments_lexer": "ipython3",
   "version": "3.11.6"
  }
 },
 "nbformat": 4,
 "nbformat_minor": 2
}
